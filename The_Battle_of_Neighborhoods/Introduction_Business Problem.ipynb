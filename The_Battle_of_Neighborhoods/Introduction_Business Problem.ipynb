{
 "cells": [
  {
   "cell_type": "markdown",
   "metadata": {},
   "source": [
    "# Introduction / Business Problem\n",
    "\n"
   ]
  },
  {
   "cell_type": "markdown",
   "metadata": {},
   "source": [
    "#### For most of us, it becomes very important to compare the neighborhoods between the current city and new city before accepting a new job offer in a different city. In this business problem, we help customers find the comparison between Toronto and New York cities by generating a popularity score for each of the cities based on popularity of the neighborhoods in each of the cities. \n",
    "#### The popularity score can be defined by the proximity and number of venues in each of the neighborhoods. More venues in a neighborhood increases the popularity score, and in the same way, more restaurants in a neighborhood increases the score further. For instance, if the overall popularity score of New York city is higher than Toronto, then one would prefer to choose a new job offer in New York City than in Toronto. This popularity score can be combined with the salary offers in each city to decide which city to choose.\n",
    "\n"
   ]
  },
  {
   "cell_type": "code",
   "execution_count": null,
   "metadata": {},
   "outputs": [],
   "source": []
  },
  {
   "cell_type": "code",
   "execution_count": null,
   "metadata": {},
   "outputs": [],
   "source": []
  }
 ],
 "metadata": {
  "kernelspec": {
   "display_name": "Python",
   "language": "python",
   "name": "conda-env-python-py"
  },
  "language_info": {
   "codemirror_mode": {
    "name": "ipython",
    "version": 3
   },
   "file_extension": ".py",
   "mimetype": "text/x-python",
   "name": "python",
   "nbconvert_exporter": "python",
   "pygments_lexer": "ipython3",
   "version": "3.6.12"
  }
 },
 "nbformat": 4,
 "nbformat_minor": 4
}
