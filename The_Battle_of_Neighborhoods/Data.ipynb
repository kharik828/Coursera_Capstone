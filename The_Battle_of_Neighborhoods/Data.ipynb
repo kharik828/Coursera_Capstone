{
 "cells": [
  {
   "cell_type": "markdown",
   "metadata": {},
   "source": [
    "# Data"
   ]
  },
  {
   "cell_type": "markdown",
   "metadata": {},
   "source": [
    "##### &nbsp; Different kinds of data is needed to achieve the objective of this business problem. As a first step the information on all the neighborhoods in each of the cities is used to create dataframes. The Geocode libraries are used to obtain the location specific latitude and longitude data for all the neighborhoods. Additional columns are inserted into the existing dataframes to save the location information of all the neighborhoods in the two cities. \n",
    "\n",
    "##### FourSquare APIs are used to obtain data of the top 100 venues in all the neighborhoods of both cities. Of the data obtained on these top venues in each neighborhood, information regarding the name, category and location of the venues need to be extracted from the JSON format and saved into a new dataframe. For each category type of the venue, a score is assigned on a scale of 1 to 10 depending on the popularity of those venues if the customer would choose that city. For instance a coffee shop would get 8, a school would get 10, a restaurant would get 9, a bus stop would get 5 etc. Depending on the number of venues the square of each score gets added to get a total popularity score for a neigborhood. The scores for all the neighborhoods are added to calculate the overall score of each of the Toronto and New York cities. Higher the score implies more popular venues are existing in the city. Based on the comparision of the popularity score of Toronto and New York cities, a customer can decide which city to choose to accept new job offer."
   ]
  },
  {
   "cell_type": "markdown",
   "metadata": {},
   "source": []
  }
 ],
 "metadata": {
  "kernelspec": {
   "display_name": "Python",
   "language": "python",
   "name": "conda-env-python-py"
  },
  "language_info": {
   "codemirror_mode": {
    "name": "ipython",
    "version": 3
   },
   "file_extension": ".py",
   "mimetype": "text/x-python",
   "name": "python",
   "nbconvert_exporter": "python",
   "pygments_lexer": "ipython3",
   "version": "3.6.12"
  }
 },
 "nbformat": 4,
 "nbformat_minor": 4
}
